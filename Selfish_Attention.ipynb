{
  "nbformat": 4,
  "nbformat_minor": 0,
  "metadata": {
    "colab": {
      "name": "Selfish_Attention.ipynb",
      "provenance": [],
      "collapsed_sections": [],
      "include_colab_link": true
    },
    "kernelspec": {
      "name": "python3",
      "display_name": "Python 3"
    }
  },
  "cells": [
    {
      "cell_type": "markdown",
      "metadata": {
        "id": "view-in-github",
        "colab_type": "text"
      },
      "source": [
        "<a href=\"https://colab.research.google.com/github/Alars99/deep-learning-drizzle/blob/master/Selfish_Attention.ipynb\" target=\"_parent\"><img src=\"https://colab.research.google.com/assets/colab-badge.svg\" alt=\"Open In Colab\"/></a>"
      ]
    },
    {
      "cell_type": "markdown",
      "metadata": {
        "id": "SCguAabZxrdF"
      },
      "source": [
        "## Selfish Attention - Đề thi đầu vào VietAI NLP\n",
        "\n",
        "Thành vừa nghĩ ra một biến thể mới của self-attention và cậu đặt tên cho kiến trúc này là `selfish-attention`. Trong câu hỏi này, bạn sẽ xây dựng chiều lan truyền thuận của mô hình selfish-attention bằng numpy (có song song batch, bạn hãy xem hết gif nhé! )\n",
        "\n",
        "![selfish](https://raw.githubusercontent.com/Luvata/gifs/main/selfish.gif)\n",
        "\n",
        "\n",
        "Bạn hãy hoàn thành hàm `selfish_attention(batch_keys_embedding, batch_query_embedding)` và trả về ma trận selfish attention theo hướng dẫn ở ảnh minh họa trên. \n",
        "\n",
        "**Lưu ý**: \n",
        "1. Sau khi hoàn thành hàm `selfish_attention`, bạn hãy **paste hàm này vào form trả lời** để được tính điểm nhé !\n",
        "2. Các thành phần trong ma trận là số thực\n",
        "3. Sẽ có những test case **batch size** có thể sẽ **rất lớn** (B > 1000)"
      ]
    },
    {
      "cell_type": "code",
      "metadata": {
        "id": "CTwqqQkM0T1o",
        "colab": {
          "base_uri": "https://localhost:8080/"
        },
        "outputId": "e72a3de8-b111-4194-aa5f-0e759f328fef"
      },
      "source": [
        "# Get some testcases ;)\n",
        "!wget https://github.com/Luvata/gifs/raw/main/testcases.pkl\n",
        "import numpy as np\n",
        "import pickle\n",
        "\n",
        "with open(\"testcases.pkl\", \"rb\") as f:\n",
        "    test_cases = pickle.load(f)"
      ],
      "execution_count": 1,
      "outputs": [
        {
          "output_type": "stream",
          "text": [
            "--2020-12-27 03:12:22--  https://github.com/Luvata/gifs/raw/main/testcases.pkl\n",
            "Resolving github.com (github.com)... 13.114.40.48\n",
            "Connecting to github.com (github.com)|13.114.40.48|:443... connected.\n",
            "HTTP request sent, awaiting response... 302 Found\n",
            "Location: https://raw.githubusercontent.com/Luvata/gifs/main/testcases.pkl [following]\n",
            "--2020-12-27 03:12:23--  https://raw.githubusercontent.com/Luvata/gifs/main/testcases.pkl\n",
            "Resolving raw.githubusercontent.com (raw.githubusercontent.com)... 151.101.0.133, 151.101.64.133, 151.101.128.133, ...\n",
            "Connecting to raw.githubusercontent.com (raw.githubusercontent.com)|151.101.0.133|:443... connected.\n",
            "HTTP request sent, awaiting response... 200 OK\n",
            "Length: 37183 (36K) [application/octet-stream]\n",
            "Saving to: ‘testcases.pkl’\n",
            "\n",
            "testcases.pkl       100%[===================>]  36.31K  --.-KB/s    in 0.003s  \n",
            "\n",
            "2020-12-27 03:12:24 (10.2 MB/s) - ‘testcases.pkl’ saved [37183/37183]\n",
            "\n"
          ],
          "name": "stdout"
        }
      ]
    },
    {
      "cell_type": "code",
      "metadata": {
        "id": "PZvtX4a1zd5_",
        "outputId": "5c67d392-5038-4328-a80f-ac118a1ef827",
        "colab": {
          "base_uri": "https://localhost:8080/",
          "height": 220
        }
      },
      "source": [
        "import numpy as np\n",
        "\n",
        "\n",
        "def selfish_attention(batch_keys_embedding: np.ndarray, \n",
        "                      batch_query_embedding: np.ndarray) -> np.ndarray:\n",
        "    \"\"\"Xây dựng lan truyền thuận cho kiến trúc selfish attention\n",
        "    Sau khi hoàn thành, bạn nhớ paste hàm này vào form nhé.\n",
        "\n",
        "    input  \n",
        "      batch_keys_embedding : Ma trận key embedding có shape BxNxD\n",
        "      batch_query_embedding: Ma trận query embedding có shape BxD\n",
        "    return:\n",
        "      SA: Ma trận selfish attention có shape BxD\n",
        "    \"\"\"\n",
        "\n",
        "    return SA\n",
        "\n",
        "\n",
        "## Sanity check\n",
        "for batch_keys_embedding, batch_query_embedding, actual_SA in test_cases:\n",
        "    your_SA = selfish_attenion(batch_keys_embedding, batch_query_embedding)\n",
        "    assert np.allclose(your_SA, actual_SA)"
      ],
      "execution_count": 3,
      "outputs": [
        {
          "output_type": "error",
          "ename": "NameError",
          "evalue": "ignored",
          "traceback": [
            "\u001b[0;31m---------------------------------------------------------------------------\u001b[0m",
            "\u001b[0;31mNameError\u001b[0m                                 Traceback (most recent call last)",
            "\u001b[0;32m<ipython-input-3-ebafed7f3d07>\u001b[0m in \u001b[0;36m<module>\u001b[0;34m()\u001b[0m\n\u001b[1;32m     19\u001b[0m \u001b[0;31m## Sanity check\u001b[0m\u001b[0;34m\u001b[0m\u001b[0;34m\u001b[0m\u001b[0;34m\u001b[0m\u001b[0m\n\u001b[1;32m     20\u001b[0m \u001b[0;32mfor\u001b[0m \u001b[0mbatch_keys_embedding\u001b[0m\u001b[0;34m,\u001b[0m \u001b[0mbatch_query_embedding\u001b[0m\u001b[0;34m,\u001b[0m \u001b[0mactual_SA\u001b[0m \u001b[0;32min\u001b[0m \u001b[0mtest_cases\u001b[0m\u001b[0;34m:\u001b[0m\u001b[0;34m\u001b[0m\u001b[0;34m\u001b[0m\u001b[0m\n\u001b[0;32m---> 21\u001b[0;31m     \u001b[0myour_SA\u001b[0m \u001b[0;34m=\u001b[0m \u001b[0mselfish_attenion\u001b[0m\u001b[0;34m(\u001b[0m\u001b[0mbatch_keys_embedding\u001b[0m\u001b[0;34m,\u001b[0m \u001b[0mbatch_query_embedding\u001b[0m\u001b[0;34m)\u001b[0m\u001b[0;34m\u001b[0m\u001b[0;34m\u001b[0m\u001b[0m\n\u001b[0m\u001b[1;32m     22\u001b[0m     \u001b[0;32massert\u001b[0m \u001b[0mnp\u001b[0m\u001b[0;34m.\u001b[0m\u001b[0mallclose\u001b[0m\u001b[0;34m(\u001b[0m\u001b[0myour_SA\u001b[0m\u001b[0;34m,\u001b[0m \u001b[0mactual_SA\u001b[0m\u001b[0;34m)\u001b[0m\u001b[0;34m\u001b[0m\u001b[0;34m\u001b[0m\u001b[0m\n",
            "\u001b[0;31mNameError\u001b[0m: name 'selfish_attenion' is not defined"
          ]
        }
      ]
    }
  ]
}